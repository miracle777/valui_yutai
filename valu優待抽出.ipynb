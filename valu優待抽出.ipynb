{
  "nbformat": 4,
  "nbformat_minor": 0,
  "metadata": {
    "colab": {
      "name": "valu優待抽出.ipynb",
      "provenance": [],
      "authorship_tag": "ABX9TyOh64bM/vhFshpIRQwaobrw"
    },
    "kernelspec": {
      "name": "python3",
      "display_name": "Python 3"
    }
  },
  "cells": [
    {
      "cell_type": "markdown",
      "metadata": {
        "id": "_HHSuWm0Hvou",
        "colab_type": "text"
      },
      "source": [
        "# 使い方\n",
        "pandasがインストールされていないときは、インストールしてください。\n",
        "\n",
        "pip install pandas\n",
        "\n",
        "valu_dataというフォルダに、VALUからエクスポートしたfeeds.csvファイルをアップロードします。\n",
        "\n",
        "valu_dataというフォルダが無い時は、自動で作成されます。\n",
        "\n",
        "ファイルをアップロードしたら、キーで「q」を入力してください。\n",
        "\n",
        "自動で、抽出されます。\n",
        "\n",
        "yutai_list.csvファイルが、出力されます。\n",
        "\n",
        "このファイルをダウンロードして、活用してください。\n",
        "\n",
        "ファイルが保存されるまでに、数分待ってください。\n",
        "\n",
        "\n"
      ]
    },
    {
      "cell_type": "code",
      "metadata": {
        "id": "iLtkGahmy3Uo",
        "colab_type": "code",
        "colab": {}
      },
      "source": [
        "pip install pandas\n"
      ],
      "execution_count": 0,
      "outputs": []
    },
    {
      "cell_type": "code",
      "metadata": {
        "id": "XiSTqve_xyl_",
        "colab_type": "code",
        "colab": {}
      },
      "source": [
        "import pandas as pd\n",
        "import csv\n",
        "import os #ディレクトリ関連\n",
        "import sys #キー入力\n",
        "\n",
        "# ディレクトリ作成\n",
        "data_dir_path = 'valu_data/'\n",
        "\n",
        "# ディレクトリあるかチェック\n",
        "def dirs_chk(path):\n",
        "    print('ディレクトリのチェック')\n",
        "    if not os.path.isdir(path):\n",
        "      print('ディレクトリ作ります')\n",
        "      os.makedirs(path)\n",
        "    else:\n",
        "          print('OK')\n",
        "\n",
        "dirs_chk(data_dir_path) #扱うファイルの保存先\n",
        "\n",
        "def file_chk(path):\n",
        "  if not os.path.exists(path):\n",
        "    print('feeds.csvを '+data_dir_path +' に、アップロードしてください')\n",
        "    while True:\n",
        "      ans = input(\"please q: \")\n",
        "      if ans == \"q\":\n",
        "        if os.path.exists(path):\n",
        "          break\n",
        "        else:\n",
        "            print('ファイルをアップロードしてください')\n",
        "            continue\n",
        "file_chk(data_dir_path +'feeds.csv')      \n",
        "print('ファイルを確認しました')\n",
        "\n",
        "# CSVファイルを読み込む\n",
        "# encoding='cp932' 日本語対応\n",
        "# type='object'　数値を文字列として扱う\n",
        "file_chk(data_dir_path +'feeds.csv')      \n",
        "df = pd.read_csv( data_dir_path +'feeds.csv' , encoding='cp932', dtype='object')\n",
        "\n",
        "'''\n",
        "csv読み込み確認\n",
        "'''\n",
        "print('dataframeの行数・列数の確認==>\\n', df.shape)\n",
        "print('indexの確認==>\\n', df.index)\n",
        "print('columnの確認==>\\n', df.columns)\n",
        "print('dataframeの各列のデータ型を確認==>\\n', df.dtypes) \n",
        "print(df.head(5))\n",
        "\n",
        "'''\n",
        "抽出\n",
        "'''\n",
        "yutai_list = df[df['種別'].str.contains('優待')] #優待抽出\n",
        "\n",
        "'''\n",
        "データフレームに変換して出力\n",
        "'''\n",
        "df = pd.DataFrame(data=yutai_list )\n",
        "print(df)\n",
        "print('yutai_list.csvを出力します')\n",
        "df.to_csv( data_dir_path +'yutai_list.csv', encoding='UTF-8')\n",
        "\n",
        "\n",
        "print('終了しました')\n"
      ],
      "execution_count": 0,
      "outputs": []
    }
  ]
}